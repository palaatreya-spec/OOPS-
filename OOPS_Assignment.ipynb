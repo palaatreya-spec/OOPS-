{
  "nbformat": 4,
  "nbformat_minor": 0,
  "metadata": {
    "colab": {
      "provenance": []
    },
    "kernelspec": {
      "name": "python3",
      "display_name": "Python 3"
    },
    "language_info": {
      "name": "python"
    }
  },
  "cells": [
    {
      "cell_type": "markdown",
      "source": [
        "Q1.What is Object-Oriented Programming (OOP)?\n",
        "   - Object-Oriented Programming (OOP) is a programming paradigm that focuses on the concept of “objects,” which represent real-world entities and are created from classes that act as blueprints. A class defines the attributes (data) and methods (functions) of an object, while an object is an actual instance of that class. OOP is built on four main principles: Encapsulation, which bundles data and methods together and restricts direct access for security and simplicity; Abstraction, which hides complex implementation details and only shows essential features; Inheritance, which allows one class to acquire properties and behaviors of another, promoting code reusability; and Polymorphism, which enables methods to take multiple forms depending on the object that uses them. By modeling software around real-world entities, OOP makes code modular, reusable, easier to maintain, and more efficient compared to traditional procedural programming.\n",
        "\n",
        "Q2.What is a class in OOP?\n",
        "   - In Object-Oriented Programming (OOP), a class is a blueprint or template used to create objects. It defines the structure and behavior of objects by bundling together attributes (data/variables) and methods (functions). A class itself does not occupy memory; rather, it provides a framework, and when an object (also called an instance) is created from it, memory is allocated. For example, if you think of a Car class, it might have attributes like brand, model, and color, and methods like drive() or brake(). Individual cars, such as a “Tesla Model S” or “Toyota Corolla,” are objects created from that class. In short, a class describes what an object will be, and the object is the actual implementation of that description.\n",
        "\n",
        "Q3.What is an object in OOP?\n",
        "   - In Object-Oriented Programming (OOP), an object is an instance of a class. While a class is just a blueprint or template, an object is the actual entity created from that blueprint, with real values assigned to its attributes and the ability to perform actions through its methods. Each object has its own state (data/attributes) and behavior (methods/functions). For example, if Car is a class with attributes like brand and model and methods like drive() and brake(), then car1 = Car(\"Tesla\", \"Model S\") and car2 = Car(\"Toyota\", \"Corolla\") are objects. Both belong to the Car class but represent different real-world cars with their own unique properties. In simple terms, a class defines what an object is, and an object is the actual usable version of that class.\n",
        "\n",
        "Q4.What is the difference between abstraction and encapsulation?\n",
        "   - Abstraction and Encapsulation are two key concepts in Object-Oriented Programming but they serve different purposes. Abstraction is the process of hiding the internal implementation details of a system and showing only the essential features, focusing on what an object does rather than how it does it. For example, when you use a car, you know how to drive it using the steering wheel and pedals, without needing to understand the engine’s internal mechanics. On the other hand, Encapsulation is the process of bundling data (variables) and methods (functions) into a single unit, usually a class, and restricting direct access to the data using access modifiers like private, protected, or public. This ensures that the internal state of an object is secure and can only be modified through controlled methods, such as deposit() or withdraw() in a bank account. In short, abstraction is about hiding implementation details at the design level, while encapsulation is about hiding data and controlling access at the implementation level.\n",
        "\n",
        "Q5.What are dunder methods in Python?\n",
        "   - Dunder methods (short for double underscore methods, also called magic or special methods) are built-in methods that start and end with double underscores, such as __init__, __str__, and __len__. These methods are automatically invoked by Python to perform specific actions, rather than being called explicitly by the programmer in most cases. For example, __init__ is called when an object is created to initialize its attributes, __str__ is called when an object is printed to return a string representation, and __len__ is called when the len() function is used on an object. Similarly, methods like __add__ can define how the + operator behaves between objects. In essence, dunder methods allow developers to customize how objects interact with Python’s built-in functions and operators, making user-defined classes behave more like native data types.     \n",
        "\n",
        "Q6.Explain the concept of inheritance in OOP.\n",
        "   - In Object-Oriented Programming (OOP), inheritance is the concept that allows one class (called the child class or subclass) to acquire the properties and behaviors of another class (called the parent class or superclass). This means that the child class can use the attributes and methods of the parent class without rewriting the same code, and it can also define its own additional features. Inheritance promotes code reusability, scalability, and maintainability. For example, if there is a parent class Vehicle with attributes like brand and methods like drive(), then child classes like Car or Bike can automatically use these features while also having their own specific methods, such as open_trunk() for a car or kick_start() for a bike. In short, inheritance establishes an “is-a” relationship between classes—such as a car is a vehicle—which makes programs more organized and reduces redundancy.\n",
        "\n",
        "Q7.What is polymorphism in OOP.\n",
        "   - In Object-Oriented Programming (OOP), polymorphism means “many forms” and refers to the ability of a single function, method, or operator to behave differently based on the object or data it is acting upon. It allows the same interface or method name to be used for different underlying forms, making code more flexible and easier to extend. For example, a method named draw() might behave differently depending on whether it is used by a Circle object, a Square object, or a Triangle object, even though the method name remains the same. Similarly, operators like + can be used for both numbers (to add) and strings (to concatenate). In short, polymorphism allows objects of different classes to be treated through a common interface, ensuring that the same action can produce different outcomes depending on the context.\n",
        "\n",
        "Q8.How is encapsulation achieved in Python?\n",
        "   - Encapsulation is achieved by restricting direct access to the internal data and methods of a class and providing controlled access through public methods. Although Python does not have strict access modifiers like some other languages, it uses naming conventions to indicate access levels: attributes without underscores are public and can be accessed freely, a single underscore prefix (e.g., _balance) denotes a protected member that should not be accessed directly outside the class, and a double underscore prefix (e.g., __pin) denotes a private member, which Python internally name-mangles to make it harder to access from outside. To interact with private data securely, getter and setter methods (or other public methods) are used. This ensures that the internal state of an object is hidden and can only be modified in a controlled manner, thereby maintaining security, integrity, and proper abstraction of the class’s functionality.\n",
        "\n",
        "Q9.What is a constructor in Python?\n",
        "   - constructor is a special method used to initialize objects when they are created from a class. It is defined using the __init__ method, which is automatically called as soon as a new object (instance) of the class is created. The constructor’s main purpose is to set the initial values of the object’s attributes so that the object is ready to use immediately.\n",
        "\n",
        "The first parameter of the constructor is always self, which refers to the current object, and it can also take additional parameters to assign values to the object’s attributes.\n",
        "\n",
        "Q10.What are class and static methods in Python?\n",
        "    - Class methods and static methods are special types of methods defined inside a class, but they behave differently from regular instance methods. A class method is defined using the @classmethod decorator and takes cls as its first parameter, which refers to the class itself rather than an instance. It can access or modify class-level attributes that are shared among all objects, making it useful for operations that affect the entire class. On the other hand, a static method is defined using the @staticmethod decorator and does not take self or cls as a parameter. It cannot access instance-level or class-level attributes directly and is used for utility or helper functions that are logically related to the class but do not depend on its data. In short, class methods operate at the class level, while static methods are independent functions grouped inside a class for better organization.\n",
        "\n",
        "\n",
        "Q11.What is method overloading in Python?\n",
        "    - Method overloading refers to defining multiple methods with the same name but different parameters, although Python does not support traditional method overloading like languages such as Java or C++. If you try to define more than one method with the same name in a class, the last definition will overwrite the previous ones. Instead, Python achieves a similar effect by using default arguments or variable-length arguments (*args and **kwargs) within a single method, which allows the method to accept different numbers and types of parameters. This way, one method can behave differently depending on how many arguments are passed to it, thereby mimicking method overloading.\n",
        "\n",
        "Q12.What is method overriding in OOP?\n",
        "    - Method overriding occurs when a subclass provides its own implementation of a method that already exists in its parent class. The method in the child class must have the same name and parameters as the one in the parent class, but the body of the method can be different to provide behavior specific to the child class. When an object of the subclass calls the method, the child class’s version overrides the parent class’s version. For example, if a parent class Animal has a method sound() and a subclass Dog defines its own sound() method, then calling sound() on a Dog object will run the subclass’s method instead of the parent’s. This feature allows subclasses to customize inherited behavior and supports runtime polymorphism.    \n",
        "\n",
        "Q13.What is a property decorator in Python?\n",
        "    - A property decorator is a built-in feature that allows methods in a class to be accessed like attributes, providing a clean way to implement encapsulation. By using the @property decorator, you can define a method that acts as a getter, meaning it returns the value of a private attribute without requiring explicit method calls. Along with this, you can use @<property_name>.setter to define a setter method that updates the attribute with validation or custom logic, and @<property_name>.deleter to define a method that deletes the attribute. This makes it possible to control how class attributes are read, modified, and deleted while keeping the syntax simple and intuitive. In short, the property decorator helps make code more readable and maintainable by letting you manage attribute access in a Pythonic way without relying on traditional getter and setter methods.\n",
        "\n",
        "Q14.Why is polymorphism important in OOP?\n",
        "    - Polymorphism is important in Object-Oriented Programming because it allows objects of different classes to be treated through a common interface, enabling the same method or operator to behave differently depending on the object it is applied to. This flexibility makes code more reusable, extensible, and easier to maintain, since functions can work with objects of multiple types without needing to know their exact classes. For example, a single method like draw() can be defined in different subclasses such as Circle, Square, and Triangle, and when called, each object executes its own version of the method. This reduces redundancy, supports dynamic behavior, and makes systems more scalable, as new classes can be added without changing existing code. In essence, polymorphism enhances abstraction, promotes clean design, and allows developers to write more general and adaptable programs.\n",
        "           \n",
        " Q15.What is an abstract class in Python?\n",
        "     - An abstract class is a class that serves as a blueprint for other classes and cannot be instantiated directly. It is defined using the abc (Abstract Base Class) module, and it typically contains one or more abstract methods, which are methods declared but not implemented in the abstract class. Subclasses of the abstract class must provide concrete implementations for these abstract methods; otherwise, they too will be considered abstract and cannot be instantiated. Abstract classes are useful when you want to enforce a certain structure across multiple subclasses, ensuring that they all implement specific behaviors while still allowing each subclass to provide its own customized logic. For example, an abstract class Shape may define an abstract method area() without an implementation, and subclasses like Circle or Rectangle must implement the area() method according to their formulas. This approach promotes consistency, enforces contracts in design, and helps achieve abstraction in Object-Oriented Programming.    \n",
        "\n",
        "Q16.What are the advantages of OOP?\n",
        "    - The main advantages of Object-Oriented Programming (OOP) are that it makes software design more modular, reusable, and easier to maintain. Since OOP is based on the concept of classes and objects, it allows developers to model real-world entities in code, which improves clarity and understanding. Features like encapsulation ensure data security by restricting direct access to an object’s internal state, while abstraction hides unnecessary details and exposes only essential functionality, reducing complexity. Inheritance promotes code reusability by allowing new classes to build upon existing ones, saving time and effort, and polymorphism enables flexibility by allowing the same interface or method to work differently across various objects. Together, these principles make OOP highly scalable, efficient for large projects, and easier to debug, test, and extend as requirements evolve.\n",
        "\n",
        "Q17.What is the difference between a class variable and an instance variable?\n",
        "    - The difference between a class variable and an instance variable lies in their scope and how they are shared among objects. A class variable is defined inside a class but outside any methods, and it is shared by all objects created from that class. This means that if the class variable is changed, the change is reflected across all instances of the class, making it useful for storing data common to every object, such as a counter for the number of instances. On the other hand, an instance variable is defined inside the constructor method __init__ using self, and each object gets its own separate copy of that variable. Changing an instance variable for one object does not affect the same variable in another object, since they are unique to each instance. In short, class variables are shared across all objects, while instance variables belong to individual objects.       \n",
        "\n",
        "Q18.What is multiple inheritance in Python?\n",
        "    - Multiple inheritance is a feature that allows a class to inherit attributes and methods from more than one parent class. This means that a single subclass can combine the functionality of multiple superclasses, making it more flexible and powerful. For example, if a class Student inherits from both Person and Learner, it will have access to the properties and behaviors defined in both parent classes. While multiple inheritance promotes code reuse and modularity, it can also introduce complexity, especially when two parent classes define methods or attributes with the same name. To handle such situations, Python uses a method resolution order (MRO), which follows the C3 linearization algorithm to determine the order in which classes are searched for methods. In short, multiple inheritance allows a class to combine features from multiple sources, but it should be used carefully to avoid ambiguity and maintain clarity in code design.            \n",
        "\n",
        "Q19.Explain the purpose of ‘’__str__’ and ‘__repr__’ ‘ methods in Python.\n",
        "    - The __str__ and __repr__ methods are special methods used to define how objects of a class are represented as strings, but they serve slightly different purposes. The __str__ method is intended to return a human-readable string representation of an object, something that is easy to understand and suitable for display to end users, such as when the object is passed to the print() function. On the other hand, the __repr__ method is meant to return a more unambiguous and developer-oriented representation of the object, ideally one that could be used to recreate the object if passed to Python’s interpreter. By default, if __str__ is not defined, Python will fall back to using __repr__. Typically, __str__ focuses on readability, while __repr__ focuses on providing a precise and unambiguous description useful for debugging and logging.    \n",
        "\n",
        "Q20.What is the significance of the ‘super()’ function in Python?\n",
        "    - The super() function is used to call methods from a parent class inside a child class, most commonly within the constructor __init__. Its main significance is that it allows a subclass to inherit and extend the behavior of its parent class without explicitly naming the parent, which makes the code more maintainable and flexible, especially in cases of multiple inheritance. By using super(), you ensure that the method resolution order (MRO) is followed correctly, meaning Python will automatically determine which parent class method to call based on the class hierarchy. This avoids duplication of code and helps achieve cleaner and more scalable designs. In short, super() is important because it provides a safe and efficient way to reuse parent class functionality while still allowing subclasses to add or override behavior.    \n",
        "\n",
        "Q21.What is the significance of the __del__ method in Python?\n",
        "    - The __del__ method is a special method known as a destructor, and its significance lies in handling cleanup operations when an object is about to be destroyed. It is automatically called by the Python garbage collector when an object’s reference count drops to zero, meaning there are no more references to it. The __del__ method is typically used to release resources such as closing files, disconnecting from databases, or freeing up memory that the object was holding. However, its use should be approached carefully, because the exact time when __del__ is called is not guaranteed, especially in cases of circular references or when the program ends. Due to this unpredictability, Python generally encourages the use of context managers (with statement) or explicit cleanup methods instead. In short, the __del__ method provides a way to define custom cleanup logic for objects, but it is less reliable compared to other resource management techniques.    \n",
        "\n",
        "Q22.What is the difference between @staticmethod and @classmethod in Python?\n",
        "    - The difference between @staticmethod and @classmethod in Python lies in how they are bound to the class and what they can access. A static method, defined with the @staticmethod decorator, does not take self or cls as its first parameter, meaning it cannot access either instance-specific data or class-level data directly. It behaves like a regular function placed inside a class for logical grouping and is usually used for utility operations that are related to the class but do not depend on its state. In contrast, a class method, defined with the @classmethod decorator, takes cls as its first parameter, which refers to the class itself rather than any specific object. This allows class methods to access and modify class-level attributes shared across all instances. In short, static methods are independent functions inside a class, while class methods work at the class level and can interact with class attributes.\n",
        "\n",
        "Q23.How does polymorphism work in Python with inheritance?\n",
        "    - Polymorphism with inheritance works by allowing a subclass to provide its own implementation of a method that is already defined in its parent class, and then deciding at runtime which version of the method to execute based on the type of object calling it. This is achieved through method overriding, where the child class redefines a method from the parent class with the same name and parameters but with different behavior. For example, if a parent class Animal defines a method sound(), subclasses like Dog and Cat can override it to produce different outputs such as barking or meowing. When the method is called on an object, Python automatically determines the correct version to run depending on whether the object is a Dog or a Cat. This allows a common interface to be used across different classes while still enabling each subclass to define its own specific behavior. In essence, polymorphism with inheritance enables code flexibility, reusability, and cleaner designs by supporting runtime method dispatch based on object type.   \n",
        "\n",
        "Q24.What is method chaining in Python OOP?\n",
        "    - Method chaining is a technique in which multiple methods are called on the same object in a single line, one after another, because each method returns the object itself. This is usually achieved by having methods return self at the end of their execution, which allows another method of the same object to be invoked immediately. Method chaining improves code readability and conciseness, as it avoids repeatedly writing the object’s name when performing a series of operations. For example, if a Student class has methods like set_name(), set_age(), and set_marks(), each returning self, then these methods can be chained together as student.set_name(\"Aatreya\").set_age(21).set_marks(85). This approach is widely used in builder patterns, query builders, and libraries like Pandas for writing clean and fluid code. In short, method chaining is a convenient way to execute multiple operations on the same object in a streamlined and readable manner.     \n",
        "\n",
        "Q25.What is the purpose of the __call__ method in Python?\n",
        "    - The __call__ method allows an object of a class to be invoked as if it were a regular function. When this method is defined in a class, creating an instance of that class and then using parentheses () on the instance will automatically trigger the __call__ method. The main purpose of __call__ is to make objects callable, meaning they can encapsulate behavior like functions while still maintaining object-oriented structure. This is useful in scenarios such as creating function-like objects, decorators, or classes that need to maintain internal state while being executed like functions. For example, if a class Multiplier defines __call__ to multiply a given number by a fixed factor, then m = Multiplier(5) can be used as m(10) to return 50. In short, the __call__ method bridges the gap between objects and functions, making objects more flexible and powerful in design.    \n"
      ],
      "metadata": {
        "id": "7AhW7Wia8ZU4"
      }
    },
    {
      "cell_type": "code",
      "execution_count": 1,
      "metadata": {
        "id": "LGDC3WKj7yF1",
        "colab": {
          "base_uri": "https://localhost:8080/"
        },
        "collapsed": true,
        "outputId": "72562121-3143-4e39-8a20-e927ebb65e36"
      },
      "outputs": [
        {
          "output_type": "stream",
          "name": "stdout",
          "text": [
            "This animal makes a sound.\n",
            "Bark!\n"
          ]
        }
      ],
      "source": [
        "#Q1.Create a parent class Animal with a method speak() that prints a generic message. Create a child class Dog that overrides the speak() method to print \"Bark!\".\n",
        "# Parent class\n",
        "class Animal:\n",
        "    def speak(self):\n",
        "        print(\"This animal makes a sound.\")\n",
        "\n",
        "# Child class\n",
        "class Dog(Animal):\n",
        "    def speak(self):\n",
        "        print(\"Bark!\")\n",
        "\n",
        "# Example usage\n",
        "a = Animal()\n",
        "a.speak()\n",
        "\n",
        "d = Dog()\n",
        "d.speak()\n"
      ]
    },
    {
      "cell_type": "code",
      "source": [
        "#Q2.Write a program to create an abstract class Shape with a method area(). Derive classes Circle and Rectangle from it and implement the area() method in both.\n",
        "from abc import ABC, abstractmethod\n",
        "import math\n",
        "\n",
        "# Abstract class\n",
        "class Shape(ABC):\n",
        "\n",
        "    @abstractmethod\n",
        "    def area(self):\n",
        "        pass\n",
        "\n",
        "# Derived class Circle\n",
        "class Circle(Shape):\n",
        "    def __init__(self, radius):\n",
        "        self.radius = radius\n",
        "\n",
        "    def area(self):\n",
        "        return math.pi * self.radius * self.radius\n",
        "\n",
        "# Derived class Rectangle\n",
        "class Rectangle(Shape):\n",
        "    def __init__(self, length, width):\n",
        "        self.length = length\n",
        "        self.width = width\n",
        "\n",
        "    def area(self):\n",
        "        return self.length * self.width\n",
        "\n",
        "# Example usage\n",
        "c = Circle(5)\n",
        "print(\"Area of Circle:\", c.area())\n",
        "\n",
        "r = Rectangle(4, 6)\n",
        "print(\"Area of Rectangle:\", r.area())\n"
      ],
      "metadata": {
        "colab": {
          "base_uri": "https://localhost:8080/"
        },
        "collapsed": true,
        "id": "In38Dw6mfu3A",
        "outputId": "adf415c6-624a-425d-a303-66e46f8f6a7d"
      },
      "execution_count": 2,
      "outputs": [
        {
          "output_type": "stream",
          "name": "stdout",
          "text": [
            "Area of Circle: 78.53981633974483\n",
            "Area of Rectangle: 24\n"
          ]
        }
      ]
    },
    {
      "cell_type": "code",
      "source": [
        "#Q3.Implement a multi-level inheritance scenario where a class Vehicle has an attribute type. Derive a class Car and further derive a class ElectricCar that adds a battery attribute.\n",
        "# Base class\n",
        "class Vehicle:\n",
        "    def __init__(self, vehicle_type):\n",
        "        self.type = vehicle_type\n",
        "\n",
        "    def display_info(self):\n",
        "        print(f\"Vehicle Type: {self.type}\")\n",
        "\n",
        "# Derived class\n",
        "class Car(Vehicle):\n",
        "    def __init__(self, vehicle_type, brand):\n",
        "        super().__init__(vehicle_type)\n",
        "        self.brand = brand\n",
        "\n",
        "    def display_info(self):\n",
        "        super().display_info()\n",
        "        print(f\"Car Brand: {self.brand}\")\n",
        "\n",
        "# Further derived class\n",
        "class ElectricCar(Car):\n",
        "    def __init__(self, vehicle_type, brand, battery_capacity):\n",
        "        super().__init__(vehicle_type, brand)\n",
        "        self.battery = battery_capacity\n",
        "\n",
        "    def display_info(self):\n",
        "        super().display_info()\n",
        "        print(f\"Battery Capacity: {self.battery} kWh\")\n",
        "\n",
        "# Example usage\n",
        "e_car = ElectricCar(\"Four Wheeler\", \"Tesla\", 85)\n",
        "e_car.display_info()\n",
        "\n"
      ],
      "metadata": {
        "colab": {
          "base_uri": "https://localhost:8080/"
        },
        "collapsed": true,
        "id": "_u2AtbtQgPxZ",
        "outputId": "f058adb6-3640-4a3e-f688-253a79234a4e"
      },
      "execution_count": 3,
      "outputs": [
        {
          "output_type": "stream",
          "name": "stdout",
          "text": [
            "Vehicle Type: Four Wheeler\n",
            "Car Brand: Tesla\n",
            "Battery Capacity: 85 kWh\n"
          ]
        }
      ]
    },
    {
      "cell_type": "code",
      "source": [
        "#Q4. Demonstrate polymorphism by creating a base class Bird with a method fly(). Create two derived classes Sparrow and Penguin that override the fly() method.\n",
        "# Base class\n",
        "class Bird:\n",
        "    def fly(self):\n",
        "        print(\"Some birds can fly, some cannot.\")\n",
        "\n",
        "# Derived class Sparrow\n",
        "class Sparrow(Bird):\n",
        "    def fly(self):\n",
        "        print(\"Sparrow flies high in the sky.\")\n",
        "\n",
        "# Derived class Penguin\n",
        "class Penguin(Bird):\n",
        "    def fly(self):\n",
        "        print(\"Penguins cannot fly, they swim instead.\")\n",
        "\n",
        "# Polymorphism in action\n",
        "birds = [Sparrow(), Penguin()]\n",
        "\n",
        "for bird in birds:\n",
        "    bird.fly()\n"
      ],
      "metadata": {
        "colab": {
          "base_uri": "https://localhost:8080/"
        },
        "collapsed": true,
        "id": "kQ-46cY3go_Q",
        "outputId": "2393f0cc-eee8-429a-ad7f-905a7361ae0a"
      },
      "execution_count": 4,
      "outputs": [
        {
          "output_type": "stream",
          "name": "stdout",
          "text": [
            "Sparrow flies high in the sky.\n",
            "Penguins cannot fly, they swim instead.\n"
          ]
        }
      ]
    },
    {
      "cell_type": "code",
      "source": [
        "#Q5.Write a program to demonstrate encapsulation by creating a class BankAccount with private attributes balance and methods to deposit, withdraw, and check balance.\n",
        "# Class demonstrating encapsulation\n",
        "class BankAccount:\n",
        "    def __init__(self, initial_balance):\n",
        "        self.__balance = initial_balance  # Private attribute\n",
        "\n",
        "    # Method to deposit money\n",
        "    def deposit(self, amount):\n",
        "        if amount > 0:\n",
        "            self.__balance += amount\n",
        "            print(f\"Deposited: {amount}\")\n",
        "        else:\n",
        "            print(\"Invalid deposit amount!\")\n",
        "\n",
        "    # Method to withdraw money\n",
        "    def withdraw(self, amount):\n",
        "        if 0 < amount <= self.__balance:\n",
        "            self.__balance -= amount\n",
        "            print(f\"Withdrawn: {amount}\")\n",
        "        else:\n",
        "            print(\"Insufficient balance or invalid amount!\")\n",
        "\n",
        "    # Method to check balance\n",
        "    def get_balance(self):\n",
        "        return self.__balance\n",
        "\n",
        "# Example usage\n",
        "account = BankAccount(1000)\n",
        "account.deposit(500)\n",
        "account.withdraw(300)\n",
        "print(\"Current Balance:\", account.get_balance())\n"
      ],
      "metadata": {
        "colab": {
          "base_uri": "https://localhost:8080/"
        },
        "collapsed": true,
        "id": "hYl0jcHgg5KH",
        "outputId": "26de4252-a228-4e37-a4c8-fe9f0626090f"
      },
      "execution_count": 5,
      "outputs": [
        {
          "output_type": "stream",
          "name": "stdout",
          "text": [
            "Deposited: 500\n",
            "Withdrawn: 300\n",
            "Current Balance: 1200\n"
          ]
        }
      ]
    },
    {
      "cell_type": "code",
      "source": [
        "#Q6.Demonstrate runtime polymorphism using a method play() in a base class Instrument. Derive classes Guitar and Piano that implement their own version of play().\n",
        "# Base class\n",
        "class Instrument:\n",
        "    def play(self):\n",
        "        print(\"Playing a musical instrument.\")\n",
        "\n",
        "# Derived class Guitar\n",
        "class Guitar(Instrument):\n",
        "    def play(self):\n",
        "        print(\"Strumming the guitar strings.\")\n",
        "\n",
        "# Derived class Piano\n",
        "class Piano(Instrument):\n",
        "    def play(self):\n",
        "        print(\"Playing the piano keys.\")\n",
        "\n",
        "# Runtime polymorphism in action\n",
        "instruments = [Guitar(), Piano()]\n",
        "\n",
        "for instrument in instruments:\n",
        "    instrument.play()\n"
      ],
      "metadata": {
        "colab": {
          "base_uri": "https://localhost:8080/"
        },
        "collapsed": true,
        "id": "pIKVf5A1hJMd",
        "outputId": "a60c508d-c159-4076-8c05-668282af5542"
      },
      "execution_count": 6,
      "outputs": [
        {
          "output_type": "stream",
          "name": "stdout",
          "text": [
            "Strumming the guitar strings.\n",
            "Playing the piano keys.\n"
          ]
        }
      ]
    },
    {
      "cell_type": "code",
      "source": [
        "#Q7.Create a class MathOperations with a class method add_numbers() to add two numbers and a static method subtract_numbers() to subtract two numbers.\n",
        "# Class demonstrating class and static methods\n",
        "class MathOperations:\n",
        "    # Class method to add two numbers\n",
        "    @classmethod\n",
        "    def add_numbers(cls, a, b):\n",
        "        return a + b\n",
        "\n",
        "    # Static method to subtract two numbers\n",
        "    @staticmethod\n",
        "    def subtract_numbers(a, b):\n",
        "        return a - b\n",
        "\n",
        "# Example usage\n",
        "print(\"Addition (Class Method):\", MathOperations.add_numbers(10, 5))\n",
        "print(\"Subtraction (Static Method):\", MathOperations.subtract_numbers(10, 5))\n"
      ],
      "metadata": {
        "colab": {
          "base_uri": "https://localhost:8080/"
        },
        "collapsed": true,
        "id": "jcJkBVyChXrA",
        "outputId": "00ec809f-de9a-457b-8a1b-280587c9dee7"
      },
      "execution_count": 7,
      "outputs": [
        {
          "output_type": "stream",
          "name": "stdout",
          "text": [
            "Addition (Class Method): 15\n",
            "Subtraction (Static Method): 5\n"
          ]
        }
      ]
    },
    {
      "cell_type": "code",
      "source": [
        "#Q8.Implement a class Person with a class method to count the total number of persons created.\n",
        "# Class demonstrating counting objects with a class method\n",
        "class Person:\n",
        "    count = 0  # Class variable to keep track of number of persons\n",
        "\n",
        "    def __init__(self, name):\n",
        "        self.name = name\n",
        "        Person.count += 1  # Increment count when a new object is created\n",
        "\n",
        "    # Class method to get total number of persons\n",
        "    @classmethod\n",
        "    def total_persons(cls):\n",
        "        return cls.count\n",
        "\n",
        "# Example usage\n",
        "p1 = Person(\"Aatreya\")\n",
        "p2 = Person(\"Riya\")\n",
        "p3 = Person(\"Neha\")\n",
        "\n",
        "print(\"Total Persons Created:\", Person.total_persons())\n"
      ],
      "metadata": {
        "colab": {
          "base_uri": "https://localhost:8080/"
        },
        "collapsed": true,
        "id": "hKLimguZhk-Z",
        "outputId": "fa2e0c6c-bf06-4cf6-c0af-e1d14234506a"
      },
      "execution_count": 8,
      "outputs": [
        {
          "output_type": "stream",
          "name": "stdout",
          "text": [
            "Total Persons Created: 3\n"
          ]
        }
      ]
    },
    {
      "cell_type": "code",
      "source": [
        "#Q9.Write a class Fraction with attributes numerator and denominator. Override the str method to display the fraction as \"numerator/denominator\".\n",
        "# Class demonstrating __str__ method\n",
        "class Fraction:\n",
        "    def __init__(self, numerator, denominator):\n",
        "        self.numerator = numerator\n",
        "        self.denominator = denominator\n",
        "\n",
        "    # Overriding __str__ method\n",
        "    def __str__(self):\n",
        "        return f\"{self.numerator}/{self.denominator}\"\n",
        "\n",
        "# Example usage\n",
        "f1 = Fraction(3, 4)\n",
        "f2 = Fraction(7, 8)\n",
        "\n",
        "print(f1)\n",
        "print(f2)\n"
      ],
      "metadata": {
        "colab": {
          "base_uri": "https://localhost:8080/"
        },
        "collapsed": true,
        "id": "nqGo372Ahw3N",
        "outputId": "dbcf5936-cffb-443a-a50d-82f1b4d1b890"
      },
      "execution_count": 9,
      "outputs": [
        {
          "output_type": "stream",
          "name": "stdout",
          "text": [
            "3/4\n",
            "7/8\n"
          ]
        }
      ]
    },
    {
      "cell_type": "code",
      "source": [
        "#Q10.Demonstrate operator overloading by creating a class Vector and overriding the add method to add two vectors.\n",
        "# Class demonstrating operator overloading\n",
        "class Vector:\n",
        "    def __init__(self, x, y):\n",
        "        self.x = x\n",
        "        self.y = y\n",
        "\n",
        "    # Overloading the + operator\n",
        "    def __add__(self, other):\n",
        "        return Vector(self.x + other.x, self.y + other.y)\n",
        "\n",
        "    # Overriding __str__ for readable output\n",
        "    def __str__(self):\n",
        "        return f\"({self.x}, {self.y})\"\n",
        "\n",
        "# Example usage\n",
        "v1 = Vector(2, 3)\n",
        "v2 = Vector(4, 5)\n",
        "\n",
        "v3 = v1 + v2  # Calls __add__ method\n",
        "print(\"Sum of Vectors:\", v3)\n"
      ],
      "metadata": {
        "colab": {
          "base_uri": "https://localhost:8080/"
        },
        "collapsed": true,
        "id": "HoPfFBM9iirH",
        "outputId": "2ba06bf9-d46b-4ee1-baf7-789152da368b"
      },
      "execution_count": 10,
      "outputs": [
        {
          "output_type": "stream",
          "name": "stdout",
          "text": [
            "Sum of Vectors: (6, 8)\n"
          ]
        }
      ]
    },
    {
      "cell_type": "code",
      "source": [
        "#Q11.Create a class Person with attributes name and age. Add a method greet() that prints \"Hello, my name is {name} and I am {age} years old.\"\n",
        "# Class Person with greet method\n",
        "class Person:\n",
        "    def __init__(self, name, age):\n",
        "        self.name = name\n",
        "        self.age = age\n",
        "\n",
        "    # Method to greet\n",
        "    def greet(self):\n",
        "        print(f\"Hello, my name is {self.name} and I am {self.age} years old.\")\n",
        "\n",
        "# Example usage\n",
        "p1 = Person(\"Aatreya\", 21)\n",
        "p1.greet()  # Output: Hello, my name is Aatreya and I am 21 years old.\n",
        "\n",
        "\n",
        "\n"
      ],
      "metadata": {
        "colab": {
          "base_uri": "https://localhost:8080/"
        },
        "collapsed": true,
        "id": "AK7CNsP9i9-L",
        "outputId": "406be28e-ef3f-477a-d905-11b8c15e2819"
      },
      "execution_count": 11,
      "outputs": [
        {
          "output_type": "stream",
          "name": "stdout",
          "text": [
            "Hello, my name is Aatreya and I am 21 years old.\n"
          ]
        }
      ]
    },
    {
      "cell_type": "code",
      "source": [
        "#Q12.Implement a class Student with attributes name and grades. Create a method average_grade() to compute the average of the grades.\n",
        "# Class Student with average_grade method\n",
        "class Student:\n",
        "    def __init__(self, name, grades):\n",
        "        self.name = name\n",
        "        self.grades = grades  # List of grades\n",
        "\n",
        "    # Method to compute average grade\n",
        "    def average_grade(self):\n",
        "        if self.grades:\n",
        "            return sum(self.grades) / len(self.grades)\n",
        "        else:\n",
        "            return 0\n",
        "\n",
        "# Example usage\n",
        "s1 = Student(\"Aatreya\", [85, 90, 78, 92])\n",
        "print(f\"{s1.name}'s Average Grade: {s1.average_grade()}\")\n"
      ],
      "metadata": {
        "colab": {
          "base_uri": "https://localhost:8080/"
        },
        "collapsed": true,
        "id": "lQaAbv-RogfS",
        "outputId": "7c03e608-29e5-4c77-fa32-878dee7041ee"
      },
      "execution_count": 12,
      "outputs": [
        {
          "output_type": "stream",
          "name": "stdout",
          "text": [
            "Aatreya's Average Grade: 86.25\n"
          ]
        }
      ]
    },
    {
      "cell_type": "code",
      "source": [
        "#Q13.Create a class Rectangle with methods set_dimensions() to set the dimensions and area() to calculate the area.\n",
        "# Class Rectangle\n",
        "class Rectangle:\n",
        "    def __init__(self):\n",
        "        self.length = 0\n",
        "        self.width = 0\n",
        "\n",
        "    # Method to set dimensions\n",
        "    def set_dimensions(self, length, width):\n",
        "        self.length = length\n",
        "        self.width = width\n",
        "\n",
        "    # Method to calculate area\n",
        "    def area(self):\n",
        "        return self.length * self.width\n",
        "\n",
        "# Example usage\n",
        "rect = Rectangle()\n",
        "rect.set_dimensions(7, 4)\n",
        "print(\"Area of Rectangle:\", rect.area())\n"
      ],
      "metadata": {
        "colab": {
          "base_uri": "https://localhost:8080/"
        },
        "collapsed": true,
        "id": "AimDAza_oxic",
        "outputId": "b966277e-2c51-4a68-8cff-56cffece3950"
      },
      "execution_count": 13,
      "outputs": [
        {
          "output_type": "stream",
          "name": "stdout",
          "text": [
            "Area of Rectangle: 28\n"
          ]
        }
      ]
    },
    {
      "cell_type": "code",
      "source": [
        "#Q14.Create a class Employee with a method calculate_salary() that computes the salary based on hours worked and hourly rate. Create a derived class Manager that adds a bonus to the salary.\n",
        "# Base class Employee\n",
        "class Employee:\n",
        "    def __init__(self, name, hours_worked, hourly_rate):\n",
        "        self.name = name\n",
        "        self.hours_worked = hours_worked\n",
        "        self.hourly_rate = hourly_rate\n",
        "\n",
        "    # Method to calculate salary\n",
        "    def calculate_salary(self):\n",
        "        return self.hours_worked * self.hourly_rate\n",
        "\n",
        "# Derived class Manager\n",
        "class Manager(Employee):\n",
        "    def __init__(self, name, hours_worked, hourly_rate, bonus):\n",
        "        super().__init__(name, hours_worked, hourly_rate)\n",
        "        self.bonus = bonus\n",
        "\n",
        "    # Override calculate_salary to include bonus\n",
        "    def calculate_salary(self):\n",
        "        base_salary = super().calculate_salary()\n",
        "        return base_salary + self.bonus\n",
        "\n",
        "# Example usage\n",
        "e = Employee(\"Aatreya\", 40, 500)\n",
        "m = Manager(\"Riya\", 40, 500, 10000)\n",
        "\n",
        "print(f\"{e.name}'s Salary: {e.calculate_salary()}\")\n",
        "print(f\"{m.name}'s Salary: {m.calculate_salary()}\")\n"
      ],
      "metadata": {
        "colab": {
          "base_uri": "https://localhost:8080/"
        },
        "collapsed": true,
        "id": "yD8Nbl8XpOOX",
        "outputId": "86a5e9e3-3260-4848-80aa-196d73df1bd7"
      },
      "execution_count": 14,
      "outputs": [
        {
          "output_type": "stream",
          "name": "stdout",
          "text": [
            "Aatreya's Salary: 20000\n",
            "Riya's Salary: 30000\n"
          ]
        }
      ]
    },
    {
      "cell_type": "code",
      "source": [
        "#Q15.Create a class Product with attributes name, price, and quantity. Implement a method total_price() that calculates the total price of the product.\n",
        "# Class Product\n",
        "class Product:\n",
        "    def __init__(self, name, price, quantity):\n",
        "        self.name = name\n",
        "        self.price = price\n",
        "        self.quantity = quantity\n",
        "\n",
        "    # Method to calculate total price\n",
        "    def total_price(self):\n",
        "        return self.price * self.quantity\n",
        "\n",
        "# Example usage\n",
        "p1 = Product(\"Laptop\", 50000, 2)\n",
        "print(f\"Total price of {p1.name}: {p1.total_price()}\")\n"
      ],
      "metadata": {
        "colab": {
          "base_uri": "https://localhost:8080/"
        },
        "collapsed": true,
        "id": "ULD77HnIpgFt",
        "outputId": "c84c4b17-5c4f-483a-ae5d-48847e5dffd8"
      },
      "execution_count": 15,
      "outputs": [
        {
          "output_type": "stream",
          "name": "stdout",
          "text": [
            "Total price of Laptop: 100000\n"
          ]
        }
      ]
    },
    {
      "cell_type": "code",
      "source": [
        "#Q16.Create a class Animal with an abstract method sound(). Create two derived classes Cow and Sheep that implement the sound() method.\n",
        "from abc import ABC, abstractmethod\n",
        "\n",
        "# Abstract base class\n",
        "class Animal(ABC):\n",
        "    @abstractmethod\n",
        "    def sound(self):\n",
        "        pass\n",
        "\n",
        "# Derived class Cow\n",
        "class Cow(Animal):\n",
        "    def sound(self):\n",
        "        print(\"Moo!\")\n",
        "\n",
        "# Derived class Sheep\n",
        "class Sheep(Animal):\n",
        "    def sound(self):\n",
        "        print(\"Baa!\")\n",
        "\n",
        "# Example usage\n",
        "c = Cow()\n",
        "s = Sheep()\n",
        "\n",
        "c.sound()\n",
        "s.sound()\n"
      ],
      "metadata": {
        "colab": {
          "base_uri": "https://localhost:8080/"
        },
        "collapsed": true,
        "id": "2ettSazwqAmV",
        "outputId": "e35d9d08-655d-4744-fd23-9589d1ad1d94"
      },
      "execution_count": 16,
      "outputs": [
        {
          "output_type": "stream",
          "name": "stdout",
          "text": [
            "Moo!\n",
            "Baa!\n"
          ]
        }
      ]
    },
    {
      "cell_type": "code",
      "source": [
        "#Q17.Create a class Book with attributes title, author, and year_published. Add a method get_book_info() that returns a formatted string with the book's details.\n",
        "# Class Book\n",
        "class Book:\n",
        "    def __init__(self, title, author, year_published):\n",
        "        self.title = title\n",
        "        self.author = author\n",
        "        self.year_published = year_published\n",
        "\n",
        "    # Method to get book information\n",
        "    def get_book_info(self):\n",
        "        return f\"'{self.title}' by {self.author}, published in {self.year_published}\"\n",
        "\n",
        "# Example usage\n",
        "book1 = Book(\"To Kill a Mockingbird\", \"Harper Lee\", 1960)\n",
        "print(book1.get_book_info())\n"
      ],
      "metadata": {
        "colab": {
          "base_uri": "https://localhost:8080/"
        },
        "id": "NKk1hgk-qOEG",
        "outputId": "7aecf52d-b6b6-4a51-d2c6-e4b42aa6af41"
      },
      "execution_count": 17,
      "outputs": [
        {
          "output_type": "stream",
          "name": "stdout",
          "text": [
            "'To Kill a Mockingbird' by Harper Lee, published in 1960\n"
          ]
        }
      ]
    },
    {
      "cell_type": "code",
      "source": [
        "#Q18.Create a class House with attributes address and price. Create a derived class Mansion that adds an attribute number_of_rooms.\n",
        "# Base class House\n",
        "class House:\n",
        "    def __init__(self, address, price):\n",
        "        self.address = address\n",
        "        self.price = price\n",
        "\n",
        "    # Method to display house info\n",
        "    def display_info(self):\n",
        "        print(f\"Address: {self.address}, Price: {self.price}\")\n",
        "\n",
        "# Derived class Mansion\n",
        "class Mansion(House):\n",
        "    def __init__(self, address, price, number_of_rooms):\n",
        "        super().__init__(address, price)\n",
        "        self.number_of_rooms = number_of_rooms\n",
        "\n",
        "    # Override display_info to include number of rooms\n",
        "    def display_info(self):\n",
        "        super().display_info()\n",
        "        print(f\"Number of Rooms: {self.number_of_rooms}\")\n",
        "\n",
        "# Example usage\n",
        "h = House(\"123 Maple Street\", 500000)\n",
        "m = Mansion(\"456 Oak Avenue\", 2000000, 10)\n",
        "\n",
        "h.display_info()\n",
        "m.display_info()\n"
      ],
      "metadata": {
        "colab": {
          "base_uri": "https://localhost:8080/"
        },
        "id": "SmPitGaIqdyG",
        "outputId": "a4652729-1ffe-4c81-baed-2e724afb474c"
      },
      "execution_count": 18,
      "outputs": [
        {
          "output_type": "stream",
          "name": "stdout",
          "text": [
            "Address: 123 Maple Street, Price: 500000\n",
            "Address: 456 Oak Avenue, Price: 2000000\n",
            "Number of Rooms: 10\n"
          ]
        }
      ]
    }
  ]
}